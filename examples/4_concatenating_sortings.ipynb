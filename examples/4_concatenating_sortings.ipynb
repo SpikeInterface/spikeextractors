{
 "cells": [
  {
   "cell_type": "markdown",
   "metadata": {},
   "source": [
    "### Concatenating Non-continuous Sortings\n",
    "\n",
    "In this tutorial, we will go over how to concatenate recordings in both time and by channel. We will also show how how to concetenate multiple non-continuous sortings."
   ]
  },
  {
   "cell_type": "code",
   "execution_count": null,
   "metadata": {},
   "outputs": [],
   "source": [
    "import numpy as np\n",
    "import spikeextractors as se\n",
    "import spikewidgets as sw\n",
    "import spiketoolkit as st"
   ]
  },
  {
   "cell_type": "markdown",
   "metadata": {},
   "source": [
    "First we will generate some toy datasets which which to work"
   ]
  },
  {
   "cell_type": "code",
   "execution_count": null,
   "metadata": {},
   "outputs": [],
   "source": [
    "recording1, sorting1 = se.example_datasets.toy_example(K=5, duration=1, num_channels=4, samplerate=30000, seed=0)\n",
    "recording2, sorting2 = se.example_datasets.toy_example(K=6, duration=1, num_channels=4, samplerate=30000, seed=1)\n",
    "recording3, sorting3 = se.example_datasets.toy_example(K=3, duration=1, num_channels=4, samplerate=30000, seed=2)\n",
    "recording4, sorting4 = se.example_datasets.toy_example(K=8, duration=1, num_channels=4, samplerate=30000, seed=3)\n",
    "\n",
    "recordings_list = [recording1, recording2, recording3, recording4]\n",
    "sortings_list = [sorting1, sorting2, sorting3, sorting4]"
   ]
  },
  {
   "cell_type": "markdown",
   "metadata": {},
   "source": [
    "Now we will concatenate all the recordings by channel and set the channels of the previous recordings to separate groups:"
   ]
  },
  {
   "cell_type": "code",
   "execution_count": null,
   "metadata": {},
   "outputs": [],
   "source": [
    "recordings_by_channel = se.concatenate_recordings_by_channel(recordings=recordings_list, groups=[1,2,3,4])"
   ]
  },
  {
   "cell_type": "markdown",
   "metadata": {},
   "source": [
    "Now we will concatenate all the sortings for each of the recordings inside a multisortingextractor"
   ]
  },
  {
   "cell_type": "code",
   "execution_count": null,
   "metadata": {},
   "outputs": [],
   "source": [
    "sortings_all = se.concatenate_sortings(sortings=sortings_list)"
   ]
  },
  {
   "cell_type": "code",
   "execution_count": null,
   "metadata": {},
   "outputs": [],
   "source": [
    "print(\"Concatenated unit ids: \", str(sortings_all.get_unit_ids()))"
   ]
  },
  {
   "cell_type": "markdown",
   "metadata": {},
   "source": [
    "Now you have a sorting extractor that contains the results of all recordings!"
   ]
  },
  {
   "cell_type": "code",
   "execution_count": null,
   "metadata": {},
   "outputs": [],
   "source": []
  }
 ],
 "metadata": {
  "kernelspec": {
   "display_name": "Python [default]",
   "language": "python",
   "name": "python3"
  },
  "language_info": {
   "codemirror_mode": {
    "name": "ipython",
    "version": 3
   },
   "file_extension": ".py",
   "mimetype": "text/x-python",
   "name": "python",
   "nbconvert_exporter": "python",
   "pygments_lexer": "ipython3",
   "version": "3.7.1"
  }
 },
 "nbformat": 4,
 "nbformat_minor": 2
}
