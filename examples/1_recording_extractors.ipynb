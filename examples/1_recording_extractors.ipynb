{
 "cells": [
  {
   "cell_type": "markdown",
   "metadata": {},
   "source": [
    "### Recording Extractors\n",
    "\n",
    "In this tutorial, we will go over what RecordingExtractors are and how they can be used."
   ]
  },
  {
   "cell_type": "code",
   "execution_count": null,
   "metadata": {},
   "outputs": [],
   "source": [
    "import numpy as np\n",
    "import spikeextractors as se"
   ]
  },
  {
   "cell_type": "markdown",
   "metadata": {},
   "source": [
    "Here, we define the properties of the in-memory dataset."
   ]
  },
  {
   "cell_type": "code",
   "execution_count": null,
   "metadata": {},
   "outputs": [],
   "source": [
    "num_channels=7\n",
    "samplerate=30000\n",
    "duration=20\n",
    "num_timepoints=int(samplerate*duration)"
   ]
  },
  {
   "cell_type": "markdown",
   "metadata": {},
   "source": [
    "We generate a pure-noise timeseries dataset recorded by a linear probe geometry"
   ]
  },
  {
   "cell_type": "code",
   "execution_count": null,
   "metadata": {},
   "outputs": [],
   "source": [
    "timeseries=np.random.normal(0,10,(num_channels,num_timepoints))\n",
    "geom=np.zeros((num_channels,2))\n",
    "geom[:,0]=range(num_channels)"
   ]
  },
  {
   "cell_type": "markdown",
   "metadata": {},
   "source": [
    "Define the in-memory recording extractor"
   ]
  },
  {
   "cell_type": "code",
   "execution_count": null,
   "metadata": {},
   "outputs": [],
   "source": [
    "RX=se.NumpyRecordingExtractor(timeseries=timeseries,geom=geom,samplerate=samplerate)"
   ]
  },
  {
   "cell_type": "markdown",
   "metadata": {},
   "source": [
    "We can now print properties that the RecordingExtractor retrieves from the underlying recording."
   ]
  },
  {
   "cell_type": "code",
   "execution_count": null,
   "metadata": {},
   "outputs": [],
   "source": [
    "print('Num. channels = {}'.format(len(RX.get_channel_ids())))\n",
    "print('Sampling frequency = {} Hz'.format(RX.get_sampling_frequency()))\n",
    "print('Num. timepoints = {}'.format(RX.get_num_frames()))\n",
    "print('Stdev. on third channel = {}'.format(np.std(RX.get_traces(channel_ids=2))))\n",
    "print('Location of third electrode = {}'.format(RX.get_channel_property(channel_id=2, property_name='location')))"
   ]
  },
  {
   "cell_type": "markdown",
   "metadata": {},
   "source": [
    "Write this dataset in the MountainSort format."
   ]
  },
  {
   "cell_type": "code",
   "execution_count": null,
   "metadata": {},
   "outputs": [],
   "source": [
    "se.MdaRecordingExtractor.write_recording(recording=RX,save_path='sample_mountainsort_dataset')"
   ]
  },
  {
   "cell_type": "markdown",
   "metadata": {},
   "source": [
    "Read this dataset with the Mda recording extractor."
   ]
  },
  {
   "cell_type": "code",
   "execution_count": null,
   "metadata": {},
   "outputs": [],
   "source": [
    "RX2=se.MdaRecordingExtractor(dataset_directory='sample_mountainsort_dataset')"
   ]
  },
  {
   "cell_type": "code",
   "execution_count": null,
   "metadata": {},
   "outputs": [],
   "source": [
    "print('Num. channels = {}'.format(len(RX2.get_channel_ids())))\n",
    "print('Sampling frequency = {} Hz'.format(RX2.get_sampling_frequency()))\n",
    "print('Num. timepoints = {}'.format(RX2.get_num_frames()))\n",
    "print('Stdev. on third channel = {}'.format(np.std(RX2.get_traces(channel_ids=2))))\n",
    "print('Location of third electrode = {}'.format(RX.get_channel_property(channel_id=2, property_name='location')))"
   ]
  },
  {
   "cell_type": "markdown",
   "metadata": {},
   "source": [
    "Putting Epochs into our recording (Adding a name to a time period in the recording)."
   ]
  },
  {
   "cell_type": "code",
   "execution_count": null,
   "metadata": {},
   "outputs": [],
   "source": [
    "RX2.add_epoch(epoch_name='stimulation', start_frame=1000, end_frame=6000)\n",
    "RX2.add_epoch(epoch_name='post_stimulation', start_frame=6000, end_frame=10000)\n",
    "RX2.add_epoch(epoch_name='pre_stimulation', start_frame=0, end_frame=1000)\n",
    "RX2.get_epoch_names()"
   ]
  },
  {
   "cell_type": "markdown",
   "metadata": {},
   "source": [
    "Return a SubRecordingExtractor that is a view to our epoch. Can view info about it in parent extractor."
   ]
  },
  {
   "cell_type": "code",
   "execution_count": null,
   "metadata": {},
   "outputs": [],
   "source": [
    "RX3 = RX2.get_epoch(epoch_name='stimulation')\n",
    "epoch_info = RX2.get_epoch_info('stimulation')\n",
    "start_frame = epoch_info['start_frame']\n",
    "end_frame = epoch_info['end_frame']\n",
    "\n",
    "print('Epoch Name = stimulation')\n",
    "print('Start Frame = {}'.format(start_frame))\n",
    "print('End Frame = {}'.format(end_frame))\n",
    "print('Mean. on second channel during stimulation = {}'.format(np.mean(RX3.get_traces(channel_ids=1))))\n",
    "print('Location of third electrode = {}'.format(RX.get_channel_property(channel_id=2, property_name='location')))"
   ]
  },
  {
   "cell_type": "markdown",
   "metadata": {},
   "source": [
    "Can extract an arbitrary subset of your data/channels manually without epoch functionality."
   ]
  },
  {
   "cell_type": "code",
   "execution_count": null,
   "metadata": {},
   "outputs": [],
   "source": [
    "RX4=se.SubRecordingExtractor(parent_recording=RX2,channel_ids=[2,3,4,5],start_frame=14000,\n",
    "                             end_frame=16000)"
   ]
  },
  {
   "cell_type": "markdown",
   "metadata": {},
   "source": [
    "Show the information for this sub-dataset."
   ]
  },
  {
   "cell_type": "code",
   "execution_count": null,
   "metadata": {},
   "outputs": [],
   "source": [
    "print('Num. channels = {}'.format(len(RX4.get_channel_ids())))\n",
    "print('Sampling frequency = {} Hz'.format(RX4.get_sampling_frequency()))\n",
    "print('Num. timepoints = {}'.format(RX4.get_num_frames()))\n",
    "print('Stdev. on third channel = {}'.format(np.std(RX4.get_traces(channel_ids=2))))\n",
    "print('Location of third electrode = {}'.format(RX4.get_channel_property(channel_id=2, property_name='location')))"
   ]
  },
  {
   "cell_type": "markdown",
   "metadata": {},
   "source": [
    "Can rename the sub-dataset channel ids (Channel id mapping: 0-->2, 1-->3, 2-->4, 3-->5)."
   ]
  },
  {
   "cell_type": "code",
   "execution_count": null,
   "metadata": {},
   "outputs": [],
   "source": [
    "RX5=se.SubRecordingExtractor(parent_recording=RX2,channel_ids=[2,3,4,5], \n",
    "                             renamed_channel_ids = [0,1,2,3],\n",
    "                             start_frame=14000,end_frame=16000)\n",
    "print('New ids = {}'.format(RX5.get_channel_ids()))\n",
    "print('Original ids = {}'.format(RX5.get_original_channel_ids([0,1,2,3])))"
   ]
  },
  {
   "cell_type": "code",
   "execution_count": null,
   "metadata": {},
   "outputs": [],
   "source": [
    "print('Num. channels = {}'.format(len(RX5.get_channel_ids())))\n",
    "print('Sampling frequency = {} Hz'.format(RX5.get_sampling_frequency()))\n",
    "print('Num. timepoints = {}'.format(RX5.get_num_frames()))\n",
    "print('Stdev. on third channel = {}'.format(np.std(RX5.get_traces(channel_ids=0))))\n",
    "print('Location of third electrode = {}'.format(RX5.get_channel_property(channel_id=0, property_name='location')))"
   ]
  }
 ],
 "metadata": {
  "kernelspec": {
   "display_name": "Python [default]",
   "language": "python",
   "name": "python3"
  },
  "language_info": {
   "codemirror_mode": {
    "name": "ipython",
    "version": 3
   },
   "file_extension": ".py",
   "mimetype": "text/x-python",
   "name": "python",
   "nbconvert_exporter": "python",
   "pygments_lexer": "ipython3",
   "version": "3.7.1"
  }
 },
 "nbformat": 4,
 "nbformat_minor": 2
}
