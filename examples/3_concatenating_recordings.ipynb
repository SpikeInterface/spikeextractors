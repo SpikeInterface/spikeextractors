{
 "cells": [
  {
   "cell_type": "markdown",
   "metadata": {},
   "source": [
    "### Concatenating Recordings by time/channel\n",
    "\n",
    "In this tutorial, we will go over how to concatenate recordings in both time and by channel. We will also show how how to concetenate multiple non-continuous sortings."
   ]
  },
  {
   "cell_type": "code",
   "execution_count": null,
   "metadata": {},
   "outputs": [],
   "source": [
    "import numpy as np\n",
    "import spikeextractors as se\n",
    "import spikewidgets as sw\n",
    "import spiketoolkit as st"
   ]
  },
  {
   "cell_type": "markdown",
   "metadata": {},
   "source": [
    "First we will generate some toy datasets which which to work"
   ]
  },
  {
   "cell_type": "code",
   "execution_count": null,
   "metadata": {},
   "outputs": [],
   "source": [
    "recording1, sorting1 = se.example_datasets.toy_example(K=5, duration=1, num_channels=4, samplerate=30000, seed=0)\n",
    "recording2, sorting2 = se.example_datasets.toy_example(K=6, duration=1, num_channels=4, samplerate=30000, seed=1)\n",
    "recording3, sorting3 = se.example_datasets.toy_example(K=3, duration=1, num_channels=4, samplerate=30000, seed=2)\n",
    "recording4, sorting4 = se.example_datasets.toy_example(K=8, duration=1, num_channels=4, samplerate=30000, seed=3)\n",
    "\n",
    "recordings_list = [recording1, recording2, recording3, recording4]\n",
    "sortings_list = [sorting1, sorting2, sorting3, sorting4]"
   ]
  },
  {
   "cell_type": "markdown",
   "metadata": {},
   "source": [
    "Now we will concatenate all the recordings **by channel** and set the channels of the previous recordings to separate groups:"
   ]
  },
  {
   "cell_type": "code",
   "execution_count": null,
   "metadata": {},
   "outputs": [],
   "source": [
    "recordings_by_channel = se.concatenate_recordings_by_channel(recordings=recordings_list, groups=[1,2,3,4])"
   ]
  },
  {
   "cell_type": "code",
   "execution_count": null,
   "metadata": {},
   "outputs": [],
   "source": [
    "print(\"Concatenated channel ids: \", str(recordings_by_channel.get_channel_ids()))\n",
    "print(\"Concatenated channel groups: \", str(recordings_by_channel.get_channel_groups()))\n",
    "print(\"Recording Duration: \", str(recordings_by_channel.frame_to_time(recordings_by_channel.get_num_frames())), \"seconds\")"
   ]
  },
  {
   "cell_type": "markdown",
   "metadata": {},
   "source": [
    "Now we can plot the concatenated recordings and color them by group"
   ]
  },
  {
   "cell_type": "code",
   "execution_count": null,
   "metadata": {},
   "outputs": [],
   "source": [
    "sw.plot_timeseries(recordings_by_channel, trange=[0, 30000], color_groups=True)"
   ]
  },
  {
   "cell_type": "markdown",
   "metadata": {},
   "source": [
    "We can also concatenate all the recordings **by time**:"
   ]
  },
  {
   "cell_type": "code",
   "execution_count": null,
   "metadata": {},
   "outputs": [],
   "source": [
    "recordings_by_time = se.concatenate_recordings_by_time(recordings=recordings_list, epoch_names=['recording1','recording2','recording3','recording4'])"
   ]
  },
  {
   "cell_type": "code",
   "execution_count": null,
   "metadata": {},
   "outputs": [],
   "source": [
    "print(\"Concatenated channel ids: \", str(recordings_by_time.get_channel_ids()))\n",
    "print(\"Recording Duration: \", str(recordings_by_time.frame_to_time(recordings_by_time.get_num_frames())), \"seconds\")"
   ]
  },
  {
   "cell_type": "markdown",
   "metadata": {},
   "source": [
    "Now we can plot the concatenated recordings which now share four channels and are concatenated in time"
   ]
  },
  {
   "cell_type": "code",
   "execution_count": null,
   "metadata": {},
   "outputs": [],
   "source": [
    "sw.plot_timeseries(recordings_by_time, trange=[0, 120000])"
   ]
  }
 ],
 "metadata": {
  "kernelspec": {
   "display_name": "Python [default]",
   "language": "python",
   "name": "python3"
  },
  "language_info": {
   "codemirror_mode": {
    "name": "ipython",
    "version": 3
   },
   "file_extension": ".py",
   "mimetype": "text/x-python",
   "name": "python",
   "nbconvert_exporter": "python",
   "pygments_lexer": "ipython3",
   "version": "3.7.1"
  }
 },
 "nbformat": 4,
 "nbformat_minor": 2
}
