{
 "cells": [
  {
   "cell_type": "markdown",
   "metadata": {},
   "source": [
    "### Sorting Extractors\n",
    "\n",
    "In this tutorial, we will go over what SortingExtractors are and how they can be used."
   ]
  },
  {
   "cell_type": "code",
   "execution_count": null,
   "metadata": {},
   "outputs": [],
   "source": [
    "import numpy as np\n",
    "import spikeextractors as se"
   ]
  },
  {
   "cell_type": "markdown",
   "metadata": {},
   "source": [
    "Here, we define the properties of the in-memory dataset."
   ]
  },
  {
   "cell_type": "code",
   "execution_count": null,
   "metadata": {},
   "outputs": [],
   "source": [
    "num_channels=7\n",
    "samplerate=30000\n",
    "duration=20\n",
    "num_timepoints=int(samplerate*duration)\n",
    "num_units=4\n",
    "num_events=1000"
   ]
  },
  {
   "cell_type": "markdown",
   "metadata": {},
   "source": [
    "We generate a pure-noise timeseries dataset recorded by a linear probe geometry, generate some random events, and then define in-memory sorting and recording extractors."
   ]
  },
  {
   "cell_type": "code",
   "execution_count": null,
   "metadata": {},
   "outputs": [],
   "source": [
    "# Generate a pure-noise timeseries dataset and a linear geometry\n",
    "timeseries=np.random.normal(0,10,(num_channels,num_timepoints))\n",
    "geom=np.zeros((num_channels,2))\n",
    "geom[:,0]=range(num_channels)\n",
    "\n",
    "# Define the in-memory recording extractor\n",
    "RX=se.NumpyRecordingExtractor(timeseries=timeseries,geom=geom,samplerate=samplerate)\n",
    "\n",
    "# Generate some random events\n",
    "times=np.int_(np.sort(np.random.uniform(0,num_timepoints,num_events)))\n",
    "labels=np.random.randint(1,num_units+1,size=num_events)\n",
    "    \n",
    "# Define the in-memory sorting extractor\n",
    "SX=se.NumpySortingExtractor()\n",
    "for k in range(1,num_units+1):\n",
    "    times_k=times[np.where(labels==k)[0]]\n",
    "    SX.add_unit(unit_id=k,times=times_k)"
   ]
  },
  {
   "cell_type": "markdown",
   "metadata": {},
   "source": [
    "We can now print properties that the SortingExtractor retrieves from the underlying sorted dataset."
   ]
  },
  {
   "cell_type": "code",
   "execution_count": null,
   "metadata": {},
   "outputs": [],
   "source": [
    "print('Unit ids = {}'.format(SX.get_unit_ids()))\n",
    "st=SX.get_unit_spike_train(unit_id=1)\n",
    "print('Num. events for unit 1 = {}'.format(len(st)))\n",
    "st1=SX.get_unit_spike_train(unit_id=1,start_frame=0,end_frame=30000)\n",
    "print('Num. events for first second of unit 1 = {}'.format(len(st1)))"
   ]
  },
  {
   "cell_type": "markdown",
   "metadata": {},
   "source": [
    "Write the recording and sorting in the MountainSort format."
   ]
  },
  {
   "cell_type": "code",
   "execution_count": null,
   "metadata": {},
   "outputs": [],
   "source": [
    "se.MdaRecordingExtractor.write_recording(recording=RX,save_path='sample_mountainsort_dataset')\n",
    "se.MdaSortingExtractor.write_sorting(sorting=SX,save_path='sample_mountainsort_dataset/firings_true.mda')"
   ]
  },
  {
   "cell_type": "markdown",
   "metadata": {},
   "source": [
    "Read these new datasets with the Mda recording and sorting extractor."
   ]
  },
  {
   "cell_type": "code",
   "execution_count": null,
   "metadata": {},
   "outputs": [],
   "source": [
    "RX2=se.MdaRecordingExtractor(dataset_directory='sample_mountainsort_dataset')\n",
    "SX2=se.MdaSortingExtractor(firings_file='sample_mountainsort_dataset/firings_true.mda')"
   ]
  },
  {
   "cell_type": "markdown",
   "metadata": {},
   "source": [
    "We should get he same information as above.\n"
   ]
  },
  {
   "cell_type": "code",
   "execution_count": null,
   "metadata": {},
   "outputs": [],
   "source": [
    "print('Unit ids = {}'.format(SX2.get_unit_ids()))\n",
    "st=SX2.get_unit_spike_train(unit_id=1)\n",
    "print('Num. events for unit 1 = {}'.format(len(st)))\n",
    "st1=SX2.get_unit_spike_train(unit_id=1,start_frame=0,end_frame=30000)\n",
    "print('Num. events for first second of unit 1 = {}'.format(len(st1)))"
   ]
  },
  {
   "cell_type": "markdown",
   "metadata": {},
   "source": [
    "Unit properties are name value pairs that we can store for any unit. We will now calculate a unit property and store it in the SortingExtractor.\n"
   ]
  },
  {
   "cell_type": "code",
   "execution_count": null,
   "metadata": {},
   "outputs": [],
   "source": [
    "full_spike_train = SX2.get_unit_spike_train(unit_id=1)\n",
    "firing_rate = float(len(full_spike_train))/RX2.get_num_frames()\n",
    "SX2.set_unit_property(unit_id=1, property_name='firing_rate', value=firing_rate)\n",
    "print('Average firing rate during the recording of unit 1 = {}'.format(SX2.get_unit_property(unit_id=1, property_name='firing_rate')))\n",
    "print(\"Spike property names: \" + str(SX2.get_unit_property_names()))"
   ]
  },
  {
   "cell_type": "markdown",
   "metadata": {},
   "source": [
    "We can get a the sub-dataset from the sorting."
   ]
  },
  {
   "cell_type": "code",
   "execution_count": null,
   "metadata": {},
   "outputs": [],
   "source": [
    "SX3=se.SubSortingExtractor(parent_sorting=SX2,unit_ids=[1, 2],\n",
    "                           start_frame=10000,end_frame=20000)"
   ]
  },
  {
   "cell_type": "code",
   "execution_count": null,
   "metadata": {},
   "outputs": [],
   "source": [
    "print('Num. units = {}'.format(len(SX3.get_unit_ids())))\n",
    "print('Average firing rate of units1 during frames 14000-16000 = {}'.format(\n",
    "                        float(len(SX3.get_unit_spike_train(unit_id=1)))/6000))"
   ]
  },
  {
   "cell_type": "markdown",
   "metadata": {},
   "source": [
    "We can add features to spikes contained in any unit as shown below"
   ]
  },
  {
   "cell_type": "code",
   "execution_count": null,
   "metadata": {},
   "outputs": [],
   "source": [
    "SX3.set_unit_spike_features(unit_id=1, feature_name='amplitude',\n",
    "                            value=[55, 60, 64, 50, 54, 60])\n",
    "print(\"Spike feature names: \" + str(SX3.get_unit_spike_feature_names()))"
   ]
  }
 ],
 "metadata": {
  "kernelspec": {
   "display_name": "Python [default]",
   "language": "python",
   "name": "python3"
  },
  "language_info": {
   "codemirror_mode": {
    "name": "ipython",
    "version": 3
   },
   "file_extension": ".py",
   "mimetype": "text/x-python",
   "name": "python",
   "nbconvert_exporter": "python",
   "pygments_lexer": "ipython3",
   "version": "3.7.1"
  }
 },
 "nbformat": 4,
 "nbformat_minor": 2
}
